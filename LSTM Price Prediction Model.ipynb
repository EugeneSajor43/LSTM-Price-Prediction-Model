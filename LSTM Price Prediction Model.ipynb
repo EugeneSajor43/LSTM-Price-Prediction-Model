{
 "cells": [
  {
   "cell_type": "markdown",
   "id": "dadd583b",
   "metadata": {},
   "source": [
    "### **Importing Libraries**"
   ]
  },
  {
   "cell_type": "code",
   "execution_count": 1,
   "id": "dd47aa5f",
   "metadata": {},
   "outputs": [],
   "source": [
    "import numpy as np\n",
    "import matplotlib.pyplot as plt\n",
    "import pandas as pd\n",
    "from pandas_datareader import data as pdr\n",
    "import datetime as dt\n",
    "import yfinance as yfin\n",
    "\n",
    "from sklearn.preprocessing import MinMaxScaler\n",
    "from tensorflow.keras.models import Sequential\n",
    "from tensorflow.keras.layers import Dense\n",
    "from tensorflow.keras.layers import Dropout\n",
    "from tensorflow.keras.layers import LSTM"
   ]
  },
  {
   "cell_type": "markdown",
   "id": "9b475e39",
   "metadata": {},
   "source": [
    "### **Gathering the Data**\n",
    "We prepare 10 years of data for the model to train on"
   ]
  },
  {
   "cell_type": "code",
   "execution_count": 2,
   "id": "8c985f26",
   "metadata": {
    "scrolled": false
   },
   "outputs": [
    {
     "name": "stdout",
     "output_type": "stream",
     "text": [
      "[*********************100%***********************]  1 of 1 completed\n"
     ]
    }
   ],
   "source": [
    "# company ticker name\n",
    "# example ticker names for testing\n",
    "# AAPL = Apple, NVDA = NVidia, F = Ford, SPY = SPDR S&P 500, MSFT = Microsoft\n",
    "# simply change the company ticker name below to test that stock\n",
    "company = 'AAPL'\n",
    "\n",
    "# specify training data timeline: 10 years\n",
    "# from 2010 to 2020\n",
    "\n",
    "#start = dt.datetime(2010,1,1)\n",
    "#end = dt.datetime(2020,1,1)\n",
    "\n",
    "start = '2010-1-1'\n",
    "end = '2020-1-1'\n",
    "\n",
    "yfin.pdr_override()\n",
    "\n",
    "data = pdr.get_data_yahoo(company, start, end)"
   ]
  },
  {
   "cell_type": "code",
   "execution_count": 3,
   "id": "cdac710d",
   "metadata": {},
   "outputs": [
    {
     "name": "stdout",
     "output_type": "stream",
     "text": [
      "                 Open       High        Low      Close  Adj Close     Volume\n",
      "Date                                                                        \n",
      "2010-01-04   7.622500   7.660714   7.585000   7.643214   6.496294  493729600\n",
      "2010-01-05   7.664286   7.699643   7.616071   7.656429   6.507526  601904800\n",
      "2010-01-06   7.656429   7.686786   7.526786   7.534643   6.404016  552160000\n",
      "2010-01-07   7.562500   7.571429   7.466071   7.520714   6.392177  477131200\n",
      "2010-01-08   7.510714   7.571429   7.466429   7.570714   6.434672  447610800\n",
      "...               ...        ...        ...        ...        ...        ...\n",
      "2019-12-24  71.172501  71.222504  70.730003  71.067497  69.421059   48478800\n",
      "2019-12-26  71.205002  72.495003  71.175003  72.477501  70.798409   93121200\n",
      "2019-12-27  72.779999  73.492500  72.029999  72.449997  70.771538  146266000\n",
      "2019-12-30  72.364998  73.172501  71.305000  72.879997  71.191574  144114400\n",
      "2019-12-31  72.482498  73.419998  72.379997  73.412498  71.711739  100805600\n",
      "\n",
      "[2516 rows x 6 columns]\n"
     ]
    }
   ],
   "source": [
    "\n",
    "print(data)"
   ]
  },
  {
   "cell_type": "markdown",
   "id": "1a9a99e6",
   "metadata": {},
   "source": [
    "### **Preprocessing the Data**\n",
    "The time frame is a day\n",
    "\n",
    "The model is looking back at the last 90 days\n",
    "\n",
    "The model is using only the 'Close' price as a univariate input"
   ]
  },
  {
   "cell_type": "code",
   "execution_count": 4,
   "id": "40f3789c",
   "metadata": {},
   "outputs": [],
   "source": [
    "# scaler will process the data to fit in a value between 0 and 1\n",
    "scaler = MinMaxScaler(feature_range=(0,1))\n",
    "\n",
    "# we are only using closing price data to make the prediction\n",
    "# so we will only be scaling the closing price\n",
    "scaled_data = scaler.fit_transform(data['Close'].values.reshape(-1, 1))\n",
    "\n",
    "# here we are specifying how many days in the past do we want to look back into\n",
    "# in order to make the prediction in this case we are looking back 90 days\n",
    "prediction_days = 90\n",
    "\n",
    "# empty lists for training data\n",
    "x_train = []\n",
    "y_train = []\n",
    "\n",
    "# we start at 90 days until the length of the scaled data which is 10 years\n",
    "for x in range(prediction_days, len(scaled_data)):\n",
    "    x_train.append(scaled_data[x - prediction_days: x, 0])   #  adding value to x_train 90 days of labeled data with values\n",
    "    y_train.append(scaled_data[x, 0])   # adding the 91st value\n",
    "\n",
    "# converting to numpy arrays\n",
    "x_train = np.array(x_train)\n",
    "y_train = np.array(y_train)\n",
    "\n",
    "# we reshape for the LSTM to work with\n",
    "x_train = np.reshape(x_train, (x_train.shape[0], x_train.shape[1], 1))"
   ]
  },
  {
   "cell_type": "markdown",
   "id": "f423d4a4",
   "metadata": {},
   "source": [
    "### **Building the LSTM Model**\n",
    "The model will be predicting the price"
   ]
  },
  {
   "cell_type": "code",
   "execution_count": 5,
   "id": "0c15bc53",
   "metadata": {
    "scrolled": false
   },
   "outputs": [
    {
     "name": "stdout",
     "output_type": "stream",
     "text": [
      "Metal device set to: Apple M1 Max\n"
     ]
    },
    {
     "name": "stderr",
     "output_type": "stream",
     "text": [
      "2023-08-04 21:33:59.881799: I tensorflow/core/common_runtime/pluggable_device/pluggable_device_factory.cc:305] Could not identify NUMA node of platform GPU ID 0, defaulting to 0. Your kernel may not have been built with NUMA support.\n",
      "2023-08-04 21:33:59.882201: I tensorflow/core/common_runtime/pluggable_device/pluggable_device_factory.cc:271] Created TensorFlow device (/job:localhost/replica:0/task:0/device:GPU:0 with 0 MB memory) -> physical PluggableDevice (device: 0, name: METAL, pci bus id: <undefined>)\n"
     ]
    },
    {
     "name": "stdout",
     "output_type": "stream",
     "text": [
      "Epoch 1/25\n"
     ]
    },
    {
     "name": "stderr",
     "output_type": "stream",
     "text": [
      "2023-08-04 21:34:00.404928: W tensorflow/core/platform/profile_utils/cpu_utils.cc:128] Failed to get CPU frequency: 0 Hz\n",
      "2023-08-04 21:34:01.968757: I tensorflow/core/grappler/optimizers/custom_graph_optimizer_registry.cc:113] Plugin optimizer for device_type GPU is enabled.\n",
      "2023-08-04 21:34:02.226357: I tensorflow/core/grappler/optimizers/custom_graph_optimizer_registry.cc:113] Plugin optimizer for device_type GPU is enabled.\n",
      "2023-08-04 21:34:03.162670: I tensorflow/core/grappler/optimizers/custom_graph_optimizer_registry.cc:113] Plugin optimizer for device_type GPU is enabled.\n",
      "2023-08-04 21:34:03.370728: I tensorflow/core/grappler/optimizers/custom_graph_optimizer_registry.cc:113] Plugin optimizer for device_type GPU is enabled.\n",
      "2023-08-04 21:34:03.749189: I tensorflow/core/grappler/optimizers/custom_graph_optimizer_registry.cc:113] Plugin optimizer for device_type GPU is enabled.\n",
      "2023-08-04 21:34:04.855932: I tensorflow/core/grappler/optimizers/custom_graph_optimizer_registry.cc:113] Plugin optimizer for device_type GPU is enabled.\n",
      "2023-08-04 21:34:05.234164: I tensorflow/core/grappler/optimizers/custom_graph_optimizer_registry.cc:113] Plugin optimizer for device_type GPU is enabled.\n"
     ]
    },
    {
     "name": "stdout",
     "output_type": "stream",
     "text": [
      "76/76 [==============================] - 12s 86ms/step - loss: 0.0096\n",
      "Epoch 2/25\n",
      "76/76 [==============================] - 5s 68ms/step - loss: 0.0011\n",
      "Epoch 3/25\n",
      "76/76 [==============================] - 5s 68ms/step - loss: 7.0896e-04\n",
      "Epoch 4/25\n",
      "76/76 [==============================] - 5s 68ms/step - loss: 6.9057e-04\n",
      "Epoch 5/25\n",
      "76/76 [==============================] - 5s 68ms/step - loss: 5.1091e-04\n",
      "Epoch 6/25\n",
      "76/76 [==============================] - 5s 67ms/step - loss: 4.4835e-04\n",
      "Epoch 7/25\n",
      "76/76 [==============================] - 5s 68ms/step - loss: 4.5838e-04\n",
      "Epoch 8/25\n",
      "76/76 [==============================] - 5s 67ms/step - loss: 4.7984e-04\n",
      "Epoch 9/25\n",
      "76/76 [==============================] - 5s 68ms/step - loss: 4.9295e-04\n",
      "Epoch 10/25\n",
      "76/76 [==============================] - 5s 71ms/step - loss: 4.9765e-04\n",
      "Epoch 11/25\n",
      "76/76 [==============================] - 5s 68ms/step - loss: 3.7458e-04\n",
      "Epoch 12/25\n",
      "76/76 [==============================] - 5s 68ms/step - loss: 3.3428e-04\n",
      "Epoch 13/25\n",
      "76/76 [==============================] - 5s 67ms/step - loss: 3.7983e-04\n",
      "Epoch 14/25\n",
      "76/76 [==============================] - 5s 68ms/step - loss: 3.2123e-04\n",
      "Epoch 15/25\n",
      "76/76 [==============================] - 5s 68ms/step - loss: 3.3366e-04\n",
      "Epoch 16/25\n",
      "76/76 [==============================] - 5s 69ms/step - loss: 3.1246e-04\n",
      "Epoch 17/25\n",
      "76/76 [==============================] - 5s 68ms/step - loss: 3.1799e-04\n",
      "Epoch 18/25\n",
      "76/76 [==============================] - 5s 68ms/step - loss: 3.3311e-04\n",
      "Epoch 19/25\n",
      "76/76 [==============================] - 5s 67ms/step - loss: 2.9687e-04\n",
      "Epoch 20/25\n",
      "76/76 [==============================] - 5s 68ms/step - loss: 3.5102e-04\n",
      "Epoch 21/25\n",
      "76/76 [==============================] - 5s 68ms/step - loss: 2.5785e-04\n",
      "Epoch 22/25\n",
      "76/76 [==============================] - 5s 69ms/step - loss: 2.5451e-04\n",
      "Epoch 23/25\n",
      "76/76 [==============================] - 5s 68ms/step - loss: 2.8606e-04\n",
      "Epoch 24/25\n",
      "76/76 [==============================] - 5s 68ms/step - loss: 2.8834e-04\n",
      "Epoch 25/25\n",
      "76/76 [==============================] - 5s 68ms/step - loss: 2.5860e-04\n"
     ]
    }
   ],
   "source": [
    "model = Sequential()\n",
    "\n",
    "# here we specify the layers\n",
    "# LSTM layers should always be accompanied by a dropout layer\n",
    "# Dropout layer randomly sets input units to 0 with a frequency rate of 0.2 to prevent overfitting during training\n",
    "model.add(LSTM(units=50, return_sequences=True, input_shape=(x_train.shape[1], 1))) # units = dimesionality/layers\n",
    "model.add(Dropout(0.2))\n",
    "model.add(LSTM(units=50, return_sequences=True))\n",
    "model.add(Dropout(0.2))\n",
    "model.add(LSTM(units=50))\n",
    "model.add(Dropout(0.2))\n",
    "model.add(Dense(units=1))   # the Output prediction of the  price\n",
    "\n",
    "# we then compile the model\n",
    "model.compile(optimizer='Adam', loss='mean_squared_error')\n",
    "\n",
    "# we now try for fit the model to the training data\n",
    "# epoch is the number of times you go through the training set\n",
    "# batch_size slices the data into batches of 32\n",
    "history = model.fit(x_train, y_train, epochs=25, batch_size=32)"
   ]
  },
  {
   "cell_type": "markdown",
   "id": "f6d7adbf",
   "metadata": {},
   "source": [
    "### **Plotting the loss function during training**"
   ]
  },
  {
   "cell_type": "code",
   "execution_count": 6,
   "id": "e01c4086",
   "metadata": {},
   "outputs": [
    {
     "data": {
      "image/png": "[encoded data removed]",
      "text/plain": [
       "<Figure size 640x480 with 1 Axes>"
      ]
     },
     "metadata": {},
     "output_type": "display_data"
    }
   ],
   "source": [
    "plt.plot(history.history['loss'], label='train')\n",
    "plt.legend()\n",
    "plt.show()"
   ]
  },
  {
   "cell_type": "markdown",
   "id": "8e054dcf",
   "metadata": {},
   "source": [
    "### **Testing the Model on Existing Data**\n",
    "We test the model on data that the model has not seen before"
   ]
  },
  {
   "cell_type": "code",
   "execution_count": 8,
   "id": "f01cba30",
   "metadata": {},
   "outputs": [
    {
     "name": "stdout",
     "output_type": "stream",
     "text": [
      "[*********************100%***********************]  1 of 1 completed\n"
     ]
    }
   ],
   "source": [
    "# this needs to be data that the model has not seen before\n",
    "# we select a start and end date that is much later that our training data timeline\n",
    "# here we are using a test set of 3 months\n",
    "test_start = dt.datetime(2020,1,1)\n",
    "test_end = dt.datetime(2020,5,1)\n",
    "\n",
    "#test_data = web.DataReader(company, 'yahoo', test_start, test_end)\n",
    "test_data = pdr.get_data_yahoo(company, test_start, test_end)\n",
    "\n",
    "# we need to concatenate a full data set on the data that we need to predict on\n",
    "actual_prices = test_data['Close'].values\n",
    "\n",
    "# concatenating data and test data\n",
    "total_dataset = pd.concat((data['Close'], test_data['Close']))\n",
    "\n",
    "# what our model will see as an input so it can predict the next price.\n",
    "model_inputs = total_dataset[len(total_dataset) - len(test_data) - prediction_days:].values\n",
    "\n",
    "# reshaping and scaling the model inputs\n",
    "model_inputs = model_inputs.reshape(-1, 1)\n",
    "model_inputs = scaler.transform(model_inputs)"
   ]
  },
  {
   "cell_type": "code",
   "execution_count": 9,
   "id": "19532c66",
   "metadata": {},
   "outputs": [
    {
     "name": "stdout",
     "output_type": "stream",
     "text": [
      "<class 'numpy.ndarray'>\n",
      "75.0875015258789\n",
      "74.35749816894531\n",
      "74.94999694824219\n",
      "74.59750366210938\n",
      "75.79750061035156\n",
      "77.40750122070312\n",
      "77.5824966430664\n",
      "79.23999786376953\n",
      "78.16999816894531\n",
      "77.83499908447266\n",
      "78.80999755859375\n",
      "79.68250274658203\n",
      "79.14250183105469\n",
      "79.42500305175781\n",
      "79.80750274658203\n",
      "79.57749938964844\n",
      "77.23750305175781\n",
      "79.42250061035156\n",
      "81.08499908447266\n",
      "80.96749877929688\n",
      "77.37750244140625\n",
      "77.16500091552734\n",
      "79.7125015258789\n",
      "80.36250305175781\n",
      "81.30249786376953\n",
      "80.00749969482422\n",
      "80.38749694824219\n",
      "79.90249633789062\n",
      "81.80000305175781\n",
      "81.21749877929688\n",
      "81.23750305175781\n",
      "79.75\n",
      "80.90499877929688\n",
      "80.07499694824219\n",
      "78.26249694824219\n",
      "74.54499816894531\n",
      "72.0199966430664\n",
      "73.1624984741211\n",
      "68.37999725341797\n",
      "68.33999633789062\n",
      "74.70249938964844\n",
      "72.33000183105469\n",
      "75.68499755859375\n",
      "73.2300033569336\n",
      "72.25749969482422\n",
      "66.5425033569336\n",
      "71.33499908447266\n",
      "68.85749816894531\n",
      "62.057498931884766\n",
      "69.49250030517578\n",
      "60.5525016784668\n",
      "63.21500015258789\n",
      "61.66749954223633\n",
      "61.19499969482422\n",
      "57.310001373291016\n",
      "56.092498779296875\n",
      "61.720001220703125\n",
      "61.380001068115234\n",
      "64.61000061035156\n",
      "61.935001373291016\n",
      "63.70249938964844\n",
      "63.5724983215332\n",
      "60.227500915527344\n",
      "61.23249816894531\n",
      "60.352500915527344\n",
      "65.61750030517578\n",
      "64.85749816894531\n",
      "66.51750183105469\n",
      "66.99749755859375\n",
      "68.3125\n",
      "71.76249694824219\n",
      "71.10749816894531\n",
      "71.67250061035156\n",
      "70.69999694824219\n",
      "69.23249816894531\n",
      "67.09249877929688\n",
      "69.0250015258789\n",
      "68.75749969482422\n",
      "70.74250030517578\n",
      "70.7925033569336\n",
      "69.6449966430664\n",
      "71.93250274658203\n",
      "73.44999694824219\n",
      "<class 'pandas.core.series.Series'>\n",
      "<class 'numpy.ndarray'>\n",
      "[[0.65813256]\n",
      " [0.67259461]\n",
      " [0.66384226]\n",
      " [0.66898847]\n",
      " [0.68206063]\n",
      " [0.68104645]\n",
      " [0.66962705]\n",
      " [0.68273681]\n",
      " [0.69810036]\n",
      " [0.69802521]\n",
      " [0.70144353]\n",
      " [0.71094714]\n",
      " [0.73682855]\n",
      " [0.73495036]\n",
      " [0.71864772]\n",
      " [0.72296753]\n",
      " [0.72597263]\n",
      " [0.73374835]\n",
      " [0.72694933]\n",
      " [0.7148162 ]\n",
      " [0.71853503]\n",
      " [0.71462837]\n",
      " [0.72721224]\n",
      " [0.72292998]\n",
      " [0.71891069]\n",
      " [0.73825599]\n",
      " [0.74058492]\n",
      " [0.71943658]\n",
      " [0.72642344]\n",
      " [0.74967534]\n",
      " [0.74986317]\n",
      " [0.7398712 ]\n",
      " [0.74975048]\n",
      " [0.76124497]\n",
      " [0.78423401]\n",
      " [0.7829568 ]\n",
      " [0.78089084]\n",
      " [0.77732224]\n",
      " [0.78074055]\n",
      " [0.78498527]\n",
      " [0.80038637]\n",
      " [0.79832041]\n",
      " [0.81041587]\n",
      " [0.81191846]\n",
      " [0.82318757]\n",
      " [0.83246582]\n",
      " [0.81082908]\n",
      " [0.81071639]\n",
      " [0.83137644]\n",
      " [0.85789648]\n",
      " [0.86420716]\n",
      " [0.86281732]\n",
      " [0.86323046]\n",
      " [0.87145693]\n",
      " [0.87412403]\n",
      " [0.88186215]\n",
      " [0.88096055]\n",
      " [0.89038908]\n",
      " [0.88351497]\n",
      " [0.89523483]\n",
      " [0.90026836]\n",
      " [0.8972257 ]\n",
      " [0.88558092]\n",
      " [0.88114843]\n",
      " [0.88028443]\n",
      " [0.89752616]\n",
      " [0.88971296]\n",
      " [0.90304803]\n",
      " [0.90083179]\n",
      " [0.88922461]\n",
      " [0.87153213]\n",
      " [0.88013414]\n",
      " [0.8945586 ]\n",
      " [0.9138288 ]\n",
      " [0.89959224]\n",
      " [0.90545217]\n",
      " [0.91405418]\n",
      " [0.91664608]\n",
      " [0.93050711]\n",
      " [0.94819959]\n",
      " [0.95026566]\n",
      " [0.94774884]\n",
      " [0.94880062]\n",
      " [0.94662198]\n",
      " [0.96375103]\n",
      " [0.96476521]\n",
      " [0.9859512 ]\n",
      " [0.98553794]\n",
      " [0.99199891]\n",
      " [1.        ]\n",
      " [1.02516774]\n",
      " [1.01419908]\n",
      " [1.02310167]\n",
      " [1.01780528]\n",
      " [1.03583583]\n",
      " [1.06002687]\n",
      " [1.06265627]\n",
      " [1.08756103]\n",
      " [1.07148376]\n",
      " [1.06645024]\n",
      " [1.08110007]\n",
      " [1.09420989]\n",
      " [1.08609611]\n",
      " [1.09034083]\n",
      " [1.09608807]\n",
      " [1.09263216]\n",
      " [1.05747257]\n",
      " [1.09030323]\n",
      " [1.11528308]\n",
      " [1.11351758]\n",
      " [1.05957613]\n",
      " [1.05638319]\n",
      " [1.09466063]\n",
      " [1.10442723]\n",
      " [1.11855111]\n",
      " [1.09909313]\n",
      " [1.10480277]\n",
      " [1.0975154 ]\n",
      " [1.12602637]\n",
      " [1.11727396]\n",
      " [1.11757453]\n",
      " [1.09522407]\n",
      " [1.11257849]\n",
      " [1.10010731]\n",
      " [1.0728736 ]\n",
      " [1.01701636]\n",
      " [0.97907698]\n",
      " [0.99624363]\n",
      " [0.9243842 ]\n",
      " [0.92378317]\n",
      " [1.0193829 ]\n",
      " [0.98373496]\n",
      " [1.03414541]\n",
      " [0.99725792]\n",
      " [0.98264558]\n",
      " [0.89677496]\n",
      " [0.96878455]\n",
      " [0.93155889]\n",
      " [0.82938557]\n",
      " [0.94110011]\n",
      " [0.80677224]\n",
      " [0.84677759]\n",
      " [0.82352563]\n",
      " [0.81642609]\n",
      " [0.75805209]\n",
      " [0.73975852]\n",
      " [0.8243145 ]\n",
      " [0.81920583]\n",
      " [0.86773816]\n",
      " [0.82754498]\n",
      " [0.8541025 ]\n",
      " [0.85214917]\n",
      " [0.80188895]\n",
      " [0.81698953]\n",
      " [0.80376714]\n",
      " [0.88287633]\n",
      " [0.87145693]\n",
      " [0.8963993 ]\n",
      " [0.90361147]\n",
      " [0.92337002]\n",
      " [0.97520792]\n",
      " [0.96536624]\n",
      " [0.97385568]\n",
      " [0.95924334]\n",
      " [0.93719345]\n",
      " [0.90503891]\n",
      " [0.93407571]\n",
      " [0.93005636]\n",
      " [0.95988197]\n",
      " [0.96063329]\n",
      " [0.94339144]\n",
      " [0.97776234]\n",
      " [1.00056343]]\n"
     ]
    }
   ],
   "source": [
    "print(type(actual_prices))\n",
    "\n",
    "\n",
    "for i in actual_prices:\n",
    "  print(i)\n",
    "\n",
    "print(type(total_dataset))\n",
    "print(type(model_inputs))\n",
    "print(model_inputs)"
   ]
  },
  {
   "cell_type": "markdown",
   "id": "dc984f7a",
   "metadata": {},
   "source": [
    "### **Evaluating How Accurate Our Model Performs**"
   ]
  },
  {
   "cell_type": "code",
   "execution_count": 10,
   "id": "2dee9867",
   "metadata": {},
   "outputs": [
    {
     "name": "stderr",
     "output_type": "stream",
     "text": [
      "2023-08-04 21:49:37.964538: I tensorflow/core/grappler/optimizers/custom_graph_optimizer_registry.cc:113] Plugin optimizer for device_type GPU is enabled.\n",
      "2023-08-04 21:49:38.046716: I tensorflow/core/grappler/optimizers/custom_graph_optimizer_registry.cc:113] Plugin optimizer for device_type GPU is enabled.\n",
      "2023-08-04 21:49:38.213089: I tensorflow/core/grappler/optimizers/custom_graph_optimizer_registry.cc:113] Plugin optimizer for device_type GPU is enabled.\n",
      "2023-08-04 21:49:38.382824: I tensorflow/core/grappler/optimizers/custom_graph_optimizer_registry.cc:113] Plugin optimizer for device_type GPU is enabled.\n"
     ]
    },
    {
     "name": "stdout",
     "output_type": "stream",
     "text": [
      "3/3 [==============================] - 1s 286ms/step\n"
     ]
    }
   ],
   "source": [
    "# make  predictions on test data\n",
    "# empty list for our test\n",
    "x_test = []\n",
    "\n",
    "for x in range(prediction_days, len(model_inputs)):\n",
    "    x_test.append(model_inputs[x - prediction_days: x, 0])\n",
    "\n",
    "# transforming into a numpy array\n",
    "x_test = np.array(x_test)\n",
    "\n",
    "# we reshape for the LSTM\n",
    "x_test = np.reshape(x_test, (x_test.shape[0], x_test.shape[1], 1))\n",
    "\n",
    "# predict based on  the x_test data\n",
    "prediction_prices = model.predict(x_test)\n",
    "\n",
    "# since the predicted prices are scaled we need to inverse transform them back to the actual predicted prices\n",
    "prediction_prices = scaler.inverse_transform(prediction_prices)\n"
   ]
  },
  {
   "cell_type": "code",
   "execution_count": 11,
   "id": "2044755e",
   "metadata": {},
   "outputs": [
    {
     "name": "stdout",
     "output_type": "stream",
     "text": [
      "[[0.65813256]\n",
      " [0.67259461]\n",
      " [0.66384226]\n",
      " [0.66898847]\n",
      " [0.68206063]\n",
      " [0.68104645]\n",
      " [0.66962705]\n",
      " [0.68273681]\n",
      " [0.69810036]\n",
      " [0.69802521]\n",
      " [0.70144353]\n",
      " [0.71094714]\n",
      " [0.73682855]\n",
      " [0.73495036]\n",
      " [0.71864772]\n",
      " [0.72296753]\n",
      " [0.72597263]\n",
      " [0.73374835]\n",
      " [0.72694933]\n",
      " [0.7148162 ]\n",
      " [0.71853503]\n",
      " [0.71462837]\n",
      " [0.72721224]\n",
      " [0.72292998]\n",
      " [0.71891069]\n",
      " [0.73825599]\n",
      " [0.74058492]\n",
      " [0.71943658]\n",
      " [0.72642344]\n",
      " [0.74967534]\n",
      " [0.74986317]\n",
      " [0.7398712 ]\n",
      " [0.74975048]\n",
      " [0.76124497]\n",
      " [0.78423401]\n",
      " [0.7829568 ]\n",
      " [0.78089084]\n",
      " [0.77732224]\n",
      " [0.78074055]\n",
      " [0.78498527]\n",
      " [0.80038637]\n",
      " [0.79832041]\n",
      " [0.81041587]\n",
      " [0.81191846]\n",
      " [0.82318757]\n",
      " [0.83246582]\n",
      " [0.81082908]\n",
      " [0.81071639]\n",
      " [0.83137644]\n",
      " [0.85789648]\n",
      " [0.86420716]\n",
      " [0.86281732]\n",
      " [0.86323046]\n",
      " [0.87145693]\n",
      " [0.87412403]\n",
      " [0.88186215]\n",
      " [0.88096055]\n",
      " [0.89038908]\n",
      " [0.88351497]\n",
      " [0.89523483]\n",
      " [0.90026836]\n",
      " [0.8972257 ]\n",
      " [0.88558092]\n",
      " [0.88114843]\n",
      " [0.88028443]\n",
      " [0.89752616]\n",
      " [0.88971296]\n",
      " [0.90304803]\n",
      " [0.90083179]\n",
      " [0.88922461]\n",
      " [0.87153213]\n",
      " [0.88013414]\n",
      " [0.8945586 ]\n",
      " [0.9138288 ]\n",
      " [0.89959224]\n",
      " [0.90545217]\n",
      " [0.91405418]\n",
      " [0.91664608]\n",
      " [0.93050711]\n",
      " [0.94819959]\n",
      " [0.95026566]\n",
      " [0.94774884]\n",
      " [0.94880062]\n",
      " [0.94662198]\n",
      " [0.96375103]\n",
      " [0.96476521]\n",
      " [0.9859512 ]\n",
      " [0.98553794]\n",
      " [0.99199891]\n",
      " [1.        ]\n",
      " [1.02516774]\n",
      " [1.01419908]\n",
      " [1.02310167]\n",
      " [1.01780528]\n",
      " [1.03583583]\n",
      " [1.06002687]\n",
      " [1.06265627]\n",
      " [1.08756103]\n",
      " [1.07148376]\n",
      " [1.06645024]\n",
      " [1.08110007]\n",
      " [1.09420989]\n",
      " [1.08609611]\n",
      " [1.09034083]\n",
      " [1.09608807]\n",
      " [1.09263216]\n",
      " [1.05747257]\n",
      " [1.09030323]\n",
      " [1.11528308]\n",
      " [1.11351758]\n",
      " [1.05957613]\n",
      " [1.05638319]\n",
      " [1.09466063]\n",
      " [1.10442723]\n",
      " [1.11855111]\n",
      " [1.09909313]\n",
      " [1.10480277]\n",
      " [1.0975154 ]\n",
      " [1.12602637]\n",
      " [1.11727396]\n",
      " [1.11757453]\n",
      " [1.09522407]\n",
      " [1.11257849]\n",
      " [1.10010731]\n",
      " [1.0728736 ]\n",
      " [1.01701636]\n",
      " [0.97907698]\n",
      " [0.99624363]\n",
      " [0.9243842 ]\n",
      " [0.92378317]\n",
      " [1.0193829 ]\n",
      " [0.98373496]\n",
      " [1.03414541]\n",
      " [0.99725792]\n",
      " [0.98264558]\n",
      " [0.89677496]\n",
      " [0.96878455]\n",
      " [0.93155889]\n",
      " [0.82938557]\n",
      " [0.94110011]\n",
      " [0.80677224]\n",
      " [0.84677759]\n",
      " [0.82352563]\n",
      " [0.81642609]\n",
      " [0.75805209]\n",
      " [0.73975852]\n",
      " [0.8243145 ]\n",
      " [0.81920583]\n",
      " [0.86773816]\n",
      " [0.82754498]\n",
      " [0.8541025 ]\n",
      " [0.85214917]\n",
      " [0.80188895]\n",
      " [0.81698953]\n",
      " [0.80376714]\n",
      " [0.88287633]\n",
      " [0.87145693]\n",
      " [0.8963993 ]\n",
      " [0.90361147]\n",
      " [0.92337002]\n",
      " [0.97520792]\n",
      " [0.96536624]\n",
      " [0.97385568]\n",
      " [0.95924334]\n",
      " [0.93719345]\n",
      " [0.90503891]\n",
      " [0.93407571]\n",
      " [0.93005636]\n",
      " [0.95988197]\n",
      " [0.96063329]\n",
      " [0.94339144]\n",
      " [0.97776234]\n",
      " [1.00056343]]\n"
     ]
    }
   ],
   "source": [
    "print(model_inputs)"
   ]
  },
  {
   "cell_type": "markdown",
   "id": "00308660",
   "metadata": {},
   "source": [
    "### **Plotting the Test Predictions**"
   ]
  },
  {
   "cell_type": "code",
   "execution_count": 12,
   "id": "f5da009b",
   "metadata": {},
   "outputs": [
    {
     "data": {
      "image/png": "[encoded data removed]",
      "text/plain": [
       "<Figure size 640x480 with 1 Axes>"
      ]
     },
     "metadata": {},
     "output_type": "display_data"
    }
   ],
   "source": [
    "# black for actual\n",
    "# green for prediction\n",
    "plt.plot(actual_prices, color='black', label=f\"Actual {company} price\")\n",
    "plt.plot(prediction_prices, color='red', label=f\"Predicted {company} price\")\n",
    "plt.title(f\"{company} Share Price\")\n",
    "plt.xlabel('time')\n",
    "plt.ylabel(f\"{company} Share Price\")\n",
    "plt.legend()\n",
    "plt.show()"
   ]
  },
  {
   "cell_type": "markdown",
   "id": "77cc5c80",
   "metadata": {},
   "source": []
  },
  {
   "cell_type": "code",
   "execution_count": null,
   "id": "84e05b52",
   "metadata": {},
   "outputs": [],
   "source": []
  },
  {
   "cell_type": "markdown",
   "id": "47fcf5e7",
   "metadata": {},
   "source": []
  },
  {
   "cell_type": "code",
   "execution_count": null,
   "id": "b00a3e73",
   "metadata": {},
   "outputs": [],
   "source": []
  },
  {
   "cell_type": "markdown",
   "id": "7968e0de",
   "metadata": {},
   "source": []
  },
  {
   "cell_type": "code",
   "execution_count": null,
   "id": "3fa175f2",
   "metadata": {},
   "outputs": [],
   "source": []
  },
  {
   "cell_type": "markdown",
   "id": "7e318fd4",
   "metadata": {},
   "source": []
  },
  {
   "cell_type": "code",
   "execution_count": null,
   "id": "5820d284",
   "metadata": {},
   "outputs": [],
   "source": []
  },
  {
   "cell_type": "markdown",
   "id": "040500c4",
   "metadata": {},
   "source": []
  },
  {
   "cell_type": "code",
   "execution_count": null,
   "id": "2201e559",
   "metadata": {},
   "outputs": [],
   "source": []
  },
  {
   "cell_type": "markdown",
   "id": "87ce5a90",
   "metadata": {},
   "source": []
  },
  {
   "cell_type": "code",
   "execution_count": null,
   "id": "3ca730e8",
   "metadata": {},
   "outputs": [],
   "source": []
  },
  {
   "cell_type": "markdown",
   "id": "328016c6",
   "metadata": {},
   "source": []
  },
  {
   "cell_type": "code",
   "execution_count": null,
   "id": "ef95ffa9",
   "metadata": {},
   "outputs": [],
   "source": []
  },
  {
   "cell_type": "markdown",
   "id": "73dc1c3b",
   "metadata": {},
   "source": []
  },
  {
   "cell_type": "code",
   "execution_count": null,
   "id": "a009105b",
   "metadata": {},
   "outputs": [],
   "source": []
  },
  {
   "cell_type": "markdown",
   "id": "1b2937dd",
   "metadata": {},
   "source": []
  },
  {
   "cell_type": "code",
   "execution_count": null,
   "id": "f6b20f8b",
   "metadata": {},
   "outputs": [],
   "source": []
  },
  {
   "cell_type": "markdown",
   "id": "bdce74e3",
   "metadata": {},
   "source": []
  },
  {
   "cell_type": "code",
   "execution_count": null,
   "id": "73ecc741",
   "metadata": {},
   "outputs": [],
   "source": []
  },
  {
   "cell_type": "markdown",
   "id": "a6cea693",
   "metadata": {},
   "source": []
  },
  {
   "cell_type": "code",
   "execution_count": null,
   "id": "e3f8c70a",
   "metadata": {},
   "outputs": [],
   "source": []
  },
  {
   "cell_type": "markdown",
   "id": "f14bedde",
   "metadata": {},
   "source": []
  },
  {
   "cell_type": "code",
   "execution_count": null,
   "id": "a3051ad6",
   "metadata": {},
   "outputs": [],
   "source": []
  },
  {
   "cell_type": "markdown",
   "id": "dc6a91fc",
   "metadata": {},
   "source": []
  },
  {
   "cell_type": "code",
   "execution_count": null,
   "id": "c7e558c8",
   "metadata": {},
   "outputs": [],
   "source": []
  },
  {
   "cell_type": "markdown",
   "id": "398557f5",
   "metadata": {},
   "source": []
  },
  {
   "cell_type": "code",
   "execution_count": null,
   "id": "b9daf658",
   "metadata": {},
   "outputs": [],
   "source": []
  },
  {
   "cell_type": "markdown",
   "id": "13643113",
   "metadata": {},
   "source": []
  },
  {
   "cell_type": "code",
   "execution_count": null,
   "id": "bafb5cfc",
   "metadata": {},
   "outputs": [],
   "source": []
  },
  {
   "cell_type": "markdown",
   "id": "b08088f2",
   "metadata": {},
   "source": []
  },
  {
   "cell_type": "code",
   "execution_count": null,
   "id": "fef413f4",
   "metadata": {},
   "outputs": [],
   "source": []
  },
  {
   "cell_type": "markdown",
   "id": "5839f263",
   "metadata": {},
   "source": []
  },
  {
   "cell_type": "code",
   "execution_count": null,
   "id": "252e20a9",
   "metadata": {},
   "outputs": [],
   "source": []
  },
  {
   "cell_type": "markdown",
   "id": "7b9b38cc",
   "metadata": {},
   "source": []
  },
  {
   "cell_type": "code",
   "execution_count": null,
   "id": "6f1c9b96",
   "metadata": {},
   "outputs": [],
   "source": []
  },
  {
   "cell_type": "markdown",
   "id": "68976335",
   "metadata": {},
   "source": []
  },
  {
   "cell_type": "code",
   "execution_count": null,
   "id": "1e8531a4",
   "metadata": {},
   "outputs": [],
   "source": []
  },
  {
   "cell_type": "markdown",
   "id": "99a92ad8",
   "metadata": {},
   "source": []
  },
  {
   "cell_type": "code",
   "execution_count": null,
   "id": "8349a3d3",
   "metadata": {},
   "outputs": [],
   "source": []
  },
  {
   "cell_type": "markdown",
   "id": "84262829",
   "metadata": {},
   "source": []
  },
  {
   "cell_type": "code",
   "execution_count": null,
   "id": "c0c0d7d0",
   "metadata": {},
   "outputs": [],
   "source": []
  },
  {
   "cell_type": "markdown",
   "id": "f8f36759",
   "metadata": {},
   "source": []
  },
  {
   "cell_type": "code",
   "execution_count": null,
   "id": "9b44d4d1",
   "metadata": {},
   "outputs": [],
   "source": []
  },
  {
   "cell_type": "markdown",
   "id": "e6c630f7",
   "metadata": {},
   "source": []
  },
  {
   "cell_type": "code",
   "execution_count": null,
   "id": "81a220f2",
   "metadata": {},
   "outputs": [],
   "source": []
  },
  {
   "cell_type": "markdown",
   "id": "70d0d79f",
   "metadata": {},
   "source": []
  },
  {
   "cell_type": "code",
   "execution_count": null,
   "id": "0b17de9a",
   "metadata": {},
   "outputs": [],
   "source": []
  }
 ],
 "metadata": {
  "kernelspec": {
   "display_name": "ggg",
   "language": "python",
   "name": "ggg"
  },
  "language_info": {
   "codemirror_mode": {
    "name": "ipython",
    "version": 3
   },
   "file_extension": ".py",
   "mimetype": "text/x-python",
   "name": "python",
   "nbconvert_exporter": "python",
   "pygments_lexer": "ipython3",
   "version": "3.10.8"
  },
  "toc": {
   "base_numbering": 1,
   "nav_menu": {},
   "number_sections": true,
   "sideBar": true,
   "skip_h1_title": false,
   "title_cell": "Table of Contents",
   "title_sidebar": "Contents",
   "toc_cell": false,
   "toc_position": {},
   "toc_section_display": true,
   "toc_window_display": false
  }
 },
 "nbformat": 4,
 "nbformat_minor": 5
}
